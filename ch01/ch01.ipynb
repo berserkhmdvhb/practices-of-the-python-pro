{
 "cells": [
  {
   "cell_type": "markdown",
   "id": "39c19a84",
   "metadata": {},
   "source": [
    "## 1.3. Design is a Process\n",
    "Although the word design often describes a tangible outcome, the value of design is in\n",
    "the process of arriving at that outcome. Consider"
   ]
  },
  {
   "cell_type": "markdown",
   "id": "d84423c7",
   "metadata": {},
   "source": [
    "### 1.3.1 The user experience\n",
    "\n",
    "Workflows that appear concise and clear often take a lot of work to create. Creating\n",
    "software that works smoothly for all use cases requires market research, user testing,\n",
    "and robust design. Some products work well for the intended use case, but companies\n",
    "may find after release that users are doing something totally unexpected with the\n",
    "product. The software may work for that use case, but it wasn’t optimized for it. There\n",
    "may be gaps in the design that need to be considered.\n",
    "When software works well, we hardly notice. People using software products like to\n",
    "have a frictionless experience, and developers working on software like it too. Working\n",
    "with code that hasn’t been maintained can lead to frustration, and not knowing how\n",
    "to fix it can lead to anger!\n",
    "\n",
    "Say you’ve been tasked with updating the reporting software at your company. It’s currently\n",
    "using comma-separated values (CSV) in its export files, but users have been\n",
    "talking about how much they like tab-separated values (TSV). You think, “I’ll just go\n",
    "update the delimiter in the output function to a tab instead of a comma!” Now imagine\n",
    "opening up the code to find that the lines of output are all being built up like so:\n",
    "\n",
    "```python\n",
    "print(col1_name + ',' + col2_name + ',' + col3_name + ',' + col4_name)\n",
    "print(first_val + ',' + second_val + ',' + third_val + ',' + fourth_val)\n",
    "```"
   ]
  },
  {
   "cell_type": "markdown",
   "id": "8ddb27b9",
   "metadata": {},
   "source": [
    "To change the output from CSV to TSV, you’d have to make sure you changed the\n",
    "comma to a tab in six places. This leaves some room for human error; maybe you saw\n",
    "the first line printing the header but missed the line printing the data rows. To make\n",
    "this more friendly to the next developer who uses the code, you can store the delimiter\n",
    "value in a constant and make use of it where needed. You could also use a Python\n",
    "function to make building the string easier on yourself. Then, when users decide they\n",
    "like the commas better after all, the change could be made in just one place:\n",
    "\n",
    "```python\n",
    "DELIMITER = '\\t'\n",
    "print(DELIMITER.join([col1_name, col2_name, col3_name, col4_name]))\n",
    "print(DELIMITER.join([first_val, second_val, third_val, fourth_val]))\n",
    "```"
   ]
  },
  {
   "cell_type": "markdown",
   "id": "65dad7b3",
   "metadata": {},
   "source": [
    "## 1.4 Design enables better software\n",
    "\n",
    "I’ll level with you: good design requires time and effort. It’s not something you get for\n",
    "free. Although embedding design thinking into the development work you do\n",
    "everyday is ideal, an independent design step before writing (or rewriting) your code\n",
    "is crucial.\n",
    "Planning out a software system will help you uncover areas that present risk. You\n",
    "can identify where sensitive user information might be exposed to a vulnerability. You\n",
    "can also see which pieces of the system might be performance bottlenecks or single\n",
    "points of failure.\n",
    "You can save time and money by simplifying, combining, or splitting up pieces of\n",
    "the system. Gains like this are difficult to identify when looking at a component in isolation\n",
    "because it isn’t clear whether other components are doing similar jobs. Viewing\n",
    "the system as a whole allows you to regroup and make informed decisions about the\n",
    "path forward."
   ]
  },
  {
   "cell_type": "markdown",
   "id": "e231db04",
   "metadata": {},
   "source": [
    "### 1.4.1 Considerations in software design\n",
    "\n",
    "We often think about writing software for “the user,” but software can often serve multiple\n",
    "audiences. Sometimes “the user” is a person using the product the software is a\n",
    "part of, whereas other times “the user” is a person trying to develop additional features\n",
    "of the software. Often, you’re the only user of your software! By looking at software\n",
    "from these different points of view, you can better identify the qualities of the\n",
    "software you want to build.\n",
    "The following are some common aspects consumers use to assess software for their\n",
    "use cases:\n",
    "\n",
    "- *Speed*: The software does its job as quickly as it can.\n",
    "- *Integrity*: Data used or created by the software is protected from corruption.\n",
    "- *Resources*: The software uses disk space and network bandwidth efficiently.\n",
    "- *Security*: Users of the software can read and write only data for which they’re\n",
    "authorized.\n",
    "\n",
    "In addition, these are some common outcomes you as a developer might want:\n",
    "\n",
    "- *Lose Copuling*: Components of the software are not intricately dependent on\n",
    "one another.\n",
    "- *Intuitability*: Developers can discover the nature of the software and how it\n",
    "works by reading it.\n",
    "- *Flexibility*: Developers can adapt the software to related or similar tasks.\n",
    "- *Extensibility*: Developers can add or change one aspect of the software without\n",
    "affecting other aspects."
   ]
  },
  {
   "cell_type": "markdown",
   "id": "0936b0e3",
   "metadata": {},
   "source": [
    "### 1.4.2 Organically grown software\n",
    "\n",
    "Unlike the produce at your local farmers’ market, organically grown software is not\n",
    "good for your health. In the context of software, a system that has grown organically\n",
    "over time is likely a system ripe for refactoring. Refactoring code is the process of updating\n",
    "code so it’s better designed and reflects your latest best practices.\n",
    "\n",
    "\n",
    "As the term suggests, organically grown software has become an organism, complete\n",
    "with a nervous system and a mind of its own. Bits of other software may have\n",
    "been plastered onto it (usually more than once), methods that haven’t been used in\n",
    "years are in there somewhere, rotting, and maybe there’s one function that does\n",
    "about 150% of the work. Choosing when to refactor a system like this can be difficult,\n",
    "but it’s sometime before the moment that makes you yell, “It’s alive!”"
   ]
  },
  {
   "cell_type": "markdown",
   "id": "e6137d49",
   "metadata": {},
   "source": [
    "![Figure 01](https://raw.githubusercontent.com/berserkhmdvhb/practices-of-the-python-pro/main/figures/part_I/01.PNG)"
   ]
  },
  {
   "cell_type": "markdown",
   "id": "61fc2837",
   "metadata": {},
   "source": [
    "![Figure 02](https://raw.githubusercontent.com/berserkhmdvhb/practices-of-the-python-pro/main/figures/Part_I/02.PNG)"
   ]
  },
  {
   "cell_type": "markdown",
   "id": "2e56d37c",
   "metadata": {},
   "source": []
  }
 ],
 "metadata": {
  "language_info": {
   "name": "python"
  }
 },
 "nbformat": 4,
 "nbformat_minor": 5
}
